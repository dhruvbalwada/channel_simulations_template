{
 "cells": [
  {
   "cell_type": "markdown",
   "metadata": {},
   "source": [
    "## Input for MITgcm channel simulations\n",
    "\n",
    "For the base simulation we need to generate a few files, the following: \n",
    "- Bathymetry\n",
    "- Surface winds\n",
    "- Surface buoyancy (temperature) restoration\n",
    "- Initial condition for temperature field.\n",
    "\n",
    "In addition we can also use:\n",
    "- Sponge layer profile. Use this if you want to control the interior stratification with more precision. An effect having this turned on is that a residual circulation will be present. \n",
    "- Sponge layer mask, comes with the profile. \n"
   ]
  },
  {
   "cell_type": "code",
   "execution_count": 1,
   "metadata": {},
   "outputs": [
    {
     "name": "stderr",
     "output_type": "stream",
     "text": [
      "/home/dbalwada/.conda/envs/pixel_env_2/lib/python3.7/site-packages/dask/config.py:131: YAMLLoadWarning: calling yaml.load() without Loader=... is deprecated, as the default Loader is unsafe. Please read https://msg.pyyaml.org/load for full details.\n",
      "  data = yaml.load(f.read()) or {}\n"
     ]
    }
   ],
   "source": [
    "import numpy as np\n",
    "import xarray as xr\n",
    "from xmitgcm import open_mdsdataset\n",
    "from matplotlib import pyplot as plt\n",
    "%matplotlib inline"
   ]
  },
  {
   "cell_type": "code",
   "execution_count": 35,
   "metadata": {},
   "outputs": [],
   "source": [
    "output_dir = './' # where to store these input file\n",
    "\n",
    "resolution = 5e3 # km\n",
    "\n",
    "# Domain\n",
    "Lx = 2e6\n",
    "Ly = 2e6\n",
    "\n",
    "# Winds\n",
    "tau0 = 0.2 # N/m^2 wind maxima\n",
    "Buff_L = 50e3  # Total buffer width on both side where wind goes to 0\n",
    "wind_type = 'Sin_sqr'\n",
    "\n",
    "# Surface temp\n",
    "Tmin, Tmax = 0., 8.0 # min, max temperature of linear surface profile\n",
    "\n",
    "# Bathymetry\n",
    "H = 3000.0 # m depth\n",
    "h0 = 1000.0 # Height of ridge\n",
    "sig = 75.0e3 # Width of ridge (gaussian standard deviation)\n",
    "\n",
    "# Other parameters\n",
    "flag = 1 # set 0 to not generate any plots\n",
    "tp = '>f8'"
   ]
  },
  {
   "cell_type": "markdown",
   "metadata": {},
   "source": [
    "#### Generate grid "
   ]
  },
  {
   "cell_type": "code",
   "execution_count": 8,
   "metadata": {},
   "outputs": [],
   "source": [
    "# A function that makes xy grid\n",
    "def make_grid_xy(lx, ly, res):\n",
    "#    lx, ly = length, length\n",
    "#    nx, ny = n, n\n",
    "    nx = int(lx/res)\n",
    "    ny = int(ly/res)\n",
    "    dx, dy = lx/nx, ly/ny\n",
    "\n",
    "    # create mesh-grids for cell centers\n",
    "    xc, yc = np.meshgrid(\n",
    "                dx * np.arange(nx) + dx/2,\n",
    "                dy * np.arange(ny) + dy/2)\n",
    "    \n",
    "    return xc, yc, dx, dy"
   ]
  },
  {
   "cell_type": "code",
   "execution_count": 9,
   "metadata": {},
   "outputs": [],
   "source": [
    "xc, yc, dx, dy = make_grid_xy(Lx, Ly, resolution)"
   ]
  },
  {
   "cell_type": "code",
   "execution_count": 12,
   "metadata": {},
   "outputs": [],
   "source": [
    "# Z grid \n",
    "# At the moment this is manually input, and support to be the same as the LLC4320 grid\n",
    "delR =   np.array([1.00,    1.14,    1.30,    1.49,   1.70,  \n",
    "                   1.93,    2.20,    2.50,    2.84,   3.21,        \n",
    "                   3.63,    4.10,    4.61,    5.18,   5.79,   \n",
    "                   6.47,    7.20,    7.98,    8.83,   9.73,  \n",
    "                   10.69,   11.70,   12.76,   13.87,  15.03,   \n",
    "                   16.22,   17.45,   18.70,   19.97,  21.27,    \n",
    "                   22.56,   23.87,   25.17,   26.46,  27.74,  \n",
    "                   29.00,   30.24,   31.45,   32.65,  33.82, \n",
    "                   34.97,   36.09,   37.20,   38.29,  39.37,   \n",
    "                   40.45,   41.53,   42.62,   43.73,  44.87,\n",
    "                   46.05,   47.28,   48.56,   49.93,  51.38,\n",
    "                   52.93,   54.61,   56.42,   58.38,  60.53,\n",
    "                   62.87,   65.43,   68.24,   71.33,  74.73,\n",
    "                   78.47,   82.61,   87.17,   92.21,  97.79,\n",
    "                   103.96,  110.79,  118.35,  126.73, 136.01, 174.67])\n",
    "Z = -(delR.cumsum())"
   ]
  },
  {
   "cell_type": "markdown",
   "metadata": {},
   "source": [
    "### Surface forcing fields"
   ]
  },
  {
   "cell_type": "markdown",
   "metadata": {},
   "source": [
    "#### Winds"
   ]
  },
  {
   "cell_type": "code",
   "execution_count": 23,
   "metadata": {},
   "outputs": [],
   "source": [
    "tau = np.zeros([ny,nx])\n",
    "\n",
    "if wind_type=='Sin_sqr':\n",
    "# Sin^2 \n",
    "    tau = tau0*(np.sin(np.pi* (yc-Buff_L)/(Ly-2*Buff_L))**2) # slightly squeezed wind profile to account \n",
    "\n",
    "# Add buffer zone of 0 winds on domain end\n",
    "tau[yc<=Buff_L] = 0.\n",
    "tau[yc>=(Ly-Buff_L)] = 0.\n",
    "\n",
    "tau.astype(tp).tofile((output_dir + 'surf_winds'+'_'+wind_type+'_%01d_em1_Nm2_%03d.bin'%(tau0*10,resolution)))\n",
    "   "
   ]
  },
  {
   "cell_type": "code",
   "execution_count": 26,
   "metadata": {},
   "outputs": [
    {
     "data": {
      "image/png": "[encoded data removed]",
      "text/plain": [
       "<Figure size 432x288 with 2 Axes>"
      ]
     },
     "metadata": {
      "needs_background": "light"
     },
     "output_type": "display_data"
    },
    {
     "data": {
      "image/png": "[encoded data removed]",
      "text/plain": [
       "<Figure size 432x288 with 1 Axes>"
      ]
     },
     "metadata": {
      "needs_background": "light"
     },
     "output_type": "display_data"
    }
   ],
   "source": [
    "if flag ==1 :\n",
    "    plt.pcolor(tau)\n",
    "    plt.colorbar()\n",
    "\n",
    "    plt.figure()\n",
    "    plt.plot(yc[:,1],tau[:,1],'.')\n",
    "    "
   ]
  },
  {
   "cell_type": "markdown",
   "metadata": {},
   "source": [
    "#### Surface temperature"
   ]
  },
  {
   "cell_type": "code",
   "execution_count": 33,
   "metadata": {},
   "outputs": [],
   "source": [
    "Tsurf = np.tile(np.linspace(Tmin, Tmax, ny), (ny,1)).T\n",
    "\n",
    "Tsurf.astype(tp).tofile((output_dir + 'surf_temp_linear_%1d_to_%1dC_%03d.bin' %(Tmin, Tmax, resolution)))"
   ]
  },
  {
   "cell_type": "code",
   "execution_count": 34,
   "metadata": {},
   "outputs": [
    {
     "data": {
      "image/png": "[encoded data removed]",
      "text/plain": [
       "<Figure size 432x288 with 2 Axes>"
      ]
     },
     "metadata": {
      "needs_background": "light"
     },
     "output_type": "display_data"
    }
   ],
   "source": [
    "flag = 1\n",
    "if flag == 1:\n",
    "    plt.pcolor(Tsurf)\n",
    "    plt.colorbar()"
   ]
  },
  {
   "cell_type": "markdown",
   "metadata": {},
   "source": [
    "### Bathymetry"
   ]
  },
  {
   "cell_type": "code",
   "execution_count": 45,
   "metadata": {},
   "outputs": [],
   "source": [
    "bathy = -(H - h0 * np.exp(-(xc - Lx/2)**2 / sig**2))\n",
    "\n",
    "bathy[0,:] = 0.0 # make a wall \n",
    "\n",
    "bathy.astype(tp).tofile(output_dir + 'bathymetry_ridge_%03d.bin' % resolution)"
   ]
  },
  {
   "cell_type": "code",
   "execution_count": 47,
   "metadata": {},
   "outputs": [
    {
     "data": {
      "image/png": "[encoded data removed]",
      "text/plain": [
       "<Figure size 432x288 with 2 Axes>"
      ]
     },
     "metadata": {
      "needs_background": "light"
     },
     "output_type": "display_data"
    }
   ],
   "source": [
    "if flag == 1:\n",
    "    plt.contourf((bathy), vmax=-2000)\n",
    "    plt.colorbar()"
   ]
  },
  {
   "cell_type": "code",
   "execution_count": null,
   "metadata": {},
   "outputs": [],
   "source": []
  }
 ],
 "metadata": {
  "kernelspec": {
   "display_name": "Python [conda env:pixel_env_2]",
   "language": "python",
   "name": "conda-env-pixel_env_2-py"
  },
  "language_info": {
   "codemirror_mode": {
    "name": "ipython",
    "version": 3
   },
   "file_extension": ".py",
   "mimetype": "text/x-python",
   "name": "python",
   "nbconvert_exporter": "python",
   "pygments_lexer": "ipython3",
   "version": "3.7.1"
  }
 },
 "nbformat": 4,
 "nbformat_minor": 2
}
