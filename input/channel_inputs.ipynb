{
 "cells": [
  {
   "cell_type": "markdown",
   "metadata": {},
   "source": [
    "## Input for MITgcm channel simulations\n",
    "\n",
    "For the base simulation we need to generate a few files, the following: \n",
    "- Bathymetry\n",
    "- Surface winds\n",
    "- Surface buoyancy (temperature) restoration\n",
    "- Initial condition for temperature field.\n",
    "\n",
    "In addition we can also use:\n",
    "- Sponge layer profile. Use this if you want to control the interior stratification with more precision. An effect having this turned on is that a residual circulation will be present. \n",
    "- Sponge layer mask, comes with the profile. \n"
   ]
  },
  {
   "cell_type": "code",
   "execution_count": 7,
   "metadata": {},
   "outputs": [],
   "source": [
    "import numpy as np\n",
    "import xarray as xr\n",
    "from xmitgcm import open_mdsdataset\n",
    "from matplotlib import pyplot as plt\n",
    "%matplotlib inline"
   ]
  },
  {
   "cell_type": "code",
   "execution_count": 8,
   "metadata": {},
   "outputs": [],
   "source": [
    "output_dir = './' # where to store these input file\n",
    "\n",
    "resolution = 5e3 # km\n",
    "\n",
    "# Domain\n",
    "Lx = 2e6\n",
    "Ly = 2e6\n",
    "\n",
    "# Winds\n",
    "tau0 = 0.2 # N/m^2 wind maxima\n",
    "Buff_L = 50e3  # Total buffer width on both side where wind goes to 0\n",
    "wind_type = 'Sin_sqr'\n",
    "\n",
    "# Surface temp\n",
    "Tmin, Tmax = 0., 8.0 # min, max temperature of linear surface profile\n",
    "\n",
    "# Bathymetry\n",
    "H = 3000.0 # m depth\n",
    "h0 = 1000.0 # Height of ridge\n",
    "sig = 75.0e3 # Width of ridge (gaussian standard deviation)\n",
    "\n",
    "\n",
    "# Sponge layer and initial conditions\n",
    "delT = Tmax - Tmin\n",
    "Hs = 1200.\n",
    "a = 1e-5\n",
    "b = -19\n",
    "\n",
    "\n",
    "# Other parameters\n",
    "flag = 1 # set 0 to not generate any plots\n",
    "tp = '>f8'"
   ]
  },
  {
   "cell_type": "markdown",
   "metadata": {},
   "source": [
    "#### Generate grid "
   ]
  },
  {
   "cell_type": "code",
   "execution_count": 9,
   "metadata": {},
   "outputs": [],
   "source": [
    "# A function that makes xy grid\n",
    "def make_grid_xy(lx, ly, res):\n",
    "#    lx, ly = length, length\n",
    "#    nx, ny = n, n\n",
    "    nx = int(lx/res)\n",
    "    ny = int(ly/res)\n",
    "    dx, dy = lx/nx, ly/ny\n",
    "\n",
    "    # create mesh-grids for cell centers\n",
    "    xc, yc = np.meshgrid(\n",
    "                dx * np.arange(nx) + dx/2,\n",
    "                dy * np.arange(ny) + dy/2)\n",
    "    \n",
    "    return xc, yc, dx, dy"
   ]
  },
  {
   "cell_type": "code",
   "execution_count": 10,
   "metadata": {},
   "outputs": [],
   "source": [
    "xc, yc, dx, dy = make_grid_xy(Lx, Ly, resolution)"
   ]
  },
  {
   "cell_type": "code",
   "execution_count": 11,
   "metadata": {},
   "outputs": [],
   "source": [
    "# Z grid \n",
    "# At the moment this is manually input, and support to be the same as the LLC4320 grid\n",
    "delR =   np.array([1.00,    1.14,    1.30,    1.49,   1.70,  \n",
    "                   1.93,    2.20,    2.50,    2.84,   3.21,        \n",
    "                   3.63,    4.10,    4.61,    5.18,   5.79,   \n",
    "                   6.47,    7.20,    7.98,    8.83,   9.73,  \n",
    "                   10.69,   11.70,   12.76,   13.87,  15.03,   \n",
    "                   16.22,   17.45,   18.70,   19.97,  21.27,    \n",
    "                   22.56,   23.87,   25.17,   26.46,  27.74,  \n",
    "                   29.00,   30.24,   31.45,   32.65,  33.82, \n",
    "                   34.97,   36.09,   37.20,   38.29,  39.37,   \n",
    "                   40.45,   41.53,   42.62,   43.73,  44.87,\n",
    "                   46.05,   47.28,   48.56,   49.93,  51.38,\n",
    "                   52.93,   54.61,   56.42,   58.38,  60.53,\n",
    "                   62.87,   65.43,   68.24,   71.33,  74.73,\n",
    "                   78.47,   82.61,   87.17,   92.21,  97.79,\n",
    "                   103.96,  110.79,  118.35,  126.73, 136.01, 174.67])\n",
    "Z = -(delR.cumsum())\n",
    "\n",
    "# Z grid for 40 points\n",
    "# I think it is ok to use this, unless we are going to higher resolutions. \n",
    "delR= np.array([10.0, 10.0, 10.0, 12.0, \n",
    "                14.0, 16.0, 19.0, 22.0, \n",
    "                26.0, 30.0, 36.0, 42.0, \n",
    "                50.0, 60.0, 72.0, 85., 102., \n",
    "                103., 103., 103., 103., \n",
    "                103., 103., 103., 103., \n",
    "                103., 103., 103., 103., \n",
    "                103., 103., 103., 103., \n",
    "                103., 103., 103., 103., \n",
    "                103., 103., 103.])\n",
    "Z = -(delR.cumsum())\n"
   ]
  },
  {
   "cell_type": "markdown",
   "metadata": {},
   "source": [
    "### Surface forcing fields"
   ]
  },
  {
   "cell_type": "markdown",
   "metadata": {},
   "source": [
    "#### Winds"
   ]
  },
  {
   "cell_type": "code",
   "execution_count": 12,
   "metadata": {},
   "outputs": [],
   "source": [
    "#tau = np.zeros([ny,nx])\n",
    "\n",
    "if wind_type=='Sin_sqr':\n",
    "# Sin^2 \n",
    "    tau = tau0*(np.sin(np.pi* (yc-Buff_L)/(Ly-2*Buff_L))**2) # slightly squeezed wind profile to account \n",
    "\n",
    "# Add buffer zone of 0 winds on domain end\n",
    "tau[yc<=Buff_L] = 0.\n",
    "tau[yc>=(Ly-Buff_L)] = 0.\n",
    "\n",
    "tau.astype(tp).tofile((output_dir + 'surf_winds'+'_'+wind_type+'_%01d_em1_Nm2_%03d.bin'%(tau0*10,resolution)))\n",
    "   "
   ]
  },
  {
   "cell_type": "code",
   "execution_count": 13,
   "metadata": {},
   "outputs": [
    {
     "data": {
      "image/png": "[encoded data removed]",
      "text/plain": [
       "<Figure size 432x288 with 2 Axes>"
      ]
     },
     "metadata": {
      "needs_background": "light"
     },
     "output_type": "display_data"
    },
    {
     "data": {
      "image/png": "[encoded data removed]",
      "text/plain": [
       "<Figure size 432x288 with 1 Axes>"
      ]
     },
     "metadata": {
      "needs_background": "light"
     },
     "output_type": "display_data"
    }
   ],
   "source": [
    "if flag ==1 :\n",
    "    plt.pcolor(tau)\n",
    "    plt.colorbar()\n",
    "\n",
    "    plt.figure()\n",
    "    plt.plot(yc[:,1],tau[:,1],'.')\n",
    "    "
   ]
  },
  {
   "cell_type": "markdown",
   "metadata": {},
   "source": [
    "#### Surface temperature"
   ]
  },
  {
   "cell_type": "code",
   "execution_count": 14,
   "metadata": {},
   "outputs": [],
   "source": [
    "ny = int(Ly/resolution)\n",
    "Tsurf = np.tile(np.linspace(Tmin, Tmax, ny), (ny,1)).T\n",
    "\n",
    "Tsurf.astype(tp).tofile((output_dir + 'surf_temp_linear_%1d_to_%1dC_%03d.bin' %(Tmin, Tmax, resolution)))"
   ]
  },
  {
   "cell_type": "code",
   "execution_count": 15,
   "metadata": {},
   "outputs": [
    {
     "data": {
      "image/png": "[encoded data removed]",
      "text/plain": [
       "<Figure size 432x288 with 2 Axes>"
      ]
     },
     "metadata": {
      "needs_background": "light"
     },
     "output_type": "display_data"
    }
   ],
   "source": [
    "flag = 1\n",
    "if flag == 1:\n",
    "    plt.pcolor(Tsurf)\n",
    "    plt.colorbar()"
   ]
  },
  {
   "cell_type": "markdown",
   "metadata": {},
   "source": [
    "### Bathymetry"
   ]
  },
  {
   "cell_type": "code",
   "execution_count": 16,
   "metadata": {},
   "outputs": [],
   "source": [
    "bathy = -(H - h0 * np.exp(-(xc - Lx/2)**2 / sig**2))\n",
    "\n",
    "bathy[0,:] = 0.0 # make a wall \n",
    "\n",
    "bathy.astype(tp).tofile(output_dir + 'bathymetry_ridge_%03d.bin' % resolution)"
   ]
  },
  {
   "cell_type": "code",
   "execution_count": 17,
   "metadata": {},
   "outputs": [
    {
     "data": {
      "image/png": "[encoded data removed]",
      "text/plain": [
       "<Figure size 432x288 with 2 Axes>"
      ]
     },
     "metadata": {
      "needs_background": "light"
     },
     "output_type": "display_data"
    }
   ],
   "source": [
    "if flag == 1:\n",
    "    plt.contourf((bathy), vmax=-2000)\n",
    "    plt.colorbar()"
   ]
  },
  {
   "cell_type": "markdown",
   "metadata": {},
   "source": [
    "### Sponge layer"
   ]
  },
  {
   "cell_type": "code",
   "execution_count": 18,
   "metadata": {},
   "outputs": [],
   "source": [
    "T_sponge_profile = delT*(np.exp(Z/Hs) - np.exp(Z[-1]/Hs)\n",
    "                        )/(np.exp(0./Hs) - np.exp(Z[-1]/Hs))\n",
    "n = int(Ly/resolution)\n",
    "\n",
    "T_sponge = np.tile(T_sponge_profile, (n,n,1)).T\n",
    "T_sponge = T_sponge+0.01"
   ]
  },
  {
   "cell_type": "code",
   "execution_count": 19,
   "metadata": {},
   "outputs": [
    {
     "data": {
      "text/plain": [
       "[<matplotlib.lines.Line2D at 0x15551610c760>]"
      ]
     },
     "execution_count": 19,
     "metadata": {},
     "output_type": "execute_result"
    },
    {
     "data": {
      "image/png": "[encoded data removed]",
      "text/plain": [
       "<Figure size 432x288 with 1 Axes>"
      ]
     },
     "metadata": {
      "needs_background": "light"
     },
     "output_type": "display_data"
    }
   ],
   "source": [
    "plt.plot(T_sponge[:, 3,3], Z)"
   ]
  },
  {
   "cell_type": "code",
   "execution_count": 20,
   "metadata": {},
   "outputs": [],
   "source": [
    "T_sponge_mask = np.ones_like(T_sponge)*yc\n",
    "T_sponge_mask = a*T_sponge_mask + b\n",
    "T_sponge_mask[T_sponge_mask<0] = 0."
   ]
  },
  {
   "cell_type": "code",
   "execution_count": 21,
   "metadata": {},
   "outputs": [
    {
     "data": {
      "text/plain": [
       "<matplotlib.collections.QuadMesh at 0x155516179a20>"
      ]
     },
     "execution_count": 21,
     "metadata": {},
     "output_type": "execute_result"
    },
    {
     "data": {
      "image/png": "[encoded data removed]",
      "text/plain": [
       "<Figure size 432x288 with 1 Axes>"
      ]
     },
     "metadata": {
      "needs_background": "light"
     },
     "output_type": "display_data"
    }
   ],
   "source": [
    "plt.pcolormesh(T_sponge_mask[3,:,:])"
   ]
  },
  {
   "cell_type": "code",
   "execution_count": 22,
   "metadata": {},
   "outputs": [],
   "source": [
    "T_sponge.astype(tp).tofile(output_dir + \n",
    "                           'temp_relax_profile_sponge_%03d.bin' % resolution)"
   ]
  },
  {
   "cell_type": "code",
   "execution_count": 23,
   "metadata": {},
   "outputs": [],
   "source": [
    "T_sponge_mask.astype(tp).tofile(output_dir + \n",
    "                           'temp_relax_mask_sponge_%03d.bin' % resolution)"
   ]
  },
  {
   "cell_type": "code",
   "execution_count": 24,
   "metadata": {},
   "outputs": [],
   "source": [
    "# save initial conditions as the same profile as sponge layer everywhere.\n",
    "# This is for the low res simulations. \n",
    "if dx >5e3:\n",
    "    T_sponge.astype(tp).tofile(output_dir + 'temp_initial_%03d.bin' % resolution)"
   ]
  },
  {
   "cell_type": "markdown",
   "metadata": {
    "tags": []
   },
   "source": [
    "### Initial condition"
   ]
  },
  {
   "cell_type": "code",
   "execution_count": 12,
   "metadata": {},
   "outputs": [],
   "source": [
    "# this part only runs on gyre at the moment, since that is where the 5km data lives.\n",
    "#spinup_old = '/swot/SUM05/dbalwada/channel_beta/05km/run_spinup_256_300s_autorestart/'\n",
    "#ds_05_old = open_mdsdataset(spinup_old, iters = [11923200],delta_t=300, prefix=['T'],ignore_unknown_vars=True, geometry='cartesian')\n",
    "\n",
    "#init_temp = ds_05_old['T'].isel(time=0).values\n",
    "\n",
    "#init_temp.astype(tp).tofile(output_dir + 'temp_initial_05km_old_%03d.bin' % resolution)"
   ]
  },
  {
   "cell_type": "code",
   "execution_count": 25,
   "metadata": {},
   "outputs": [],
   "source": [
    "# This part only runs on ginsburg where the low res simulation was run. \n"
   ]
  },
  {
   "cell_type": "code",
   "execution_count": 27,
   "metadata": {},
   "outputs": [],
   "source": [
    "data_dir = '/burg/abernathey/users/db3157/channel_simulations/20km/run2/'"
   ]
  },
  {
   "cell_type": "code",
   "execution_count": 28,
   "metadata": {},
   "outputs": [
    {
     "name": "stderr",
     "output_type": "stream",
     "text": [
      "/burg/home/db3157/miniconda/envs/base_new/envs/GM-Redi-offline-env/lib/python3.10/site-packages/xmitgcm/mds_store.py:913: UserWarning: Couldn't find available_diagnostics.log in /burg/abernathey/users/db3157/channel_simulations/20km/run2/ or /burg/abernathey/users/db3157/channel_simulations/20km/run2/. Using default version.\n",
      "  warnings.warn(\"Couldn't find available_diagnostics.log \"\n"
     ]
    }
   ],
   "source": [
    "ds = open_mdsdataset(data_dir, delta_t=1200, ignore_unknown_vars=True, geometry='cartesian',\n",
    "                     iters = [2073600], prefix=['T'])"
   ]
  },
  {
   "cell_type": "code",
   "execution_count": 30,
   "metadata": {},
   "outputs": [
    {
     "name": "stderr",
     "output_type": "stream",
     "text": [
      "/burg/home/db3157/miniconda/envs/base_new/envs/GM-Redi-offline-env/lib/python3.10/site-packages/xarray/core/indexes.py:234: FutureWarning: Passing method to Float64Index.get_loc is deprecated and will raise in a future version. Use index.get_indexer([item], method=...) instead.\n",
      "  indexer = self.index.get_loc(\n"
     ]
    },
    {
     "data": {
      "text/plain": [
       "<matplotlib.collections.QuadMesh at 0x15552318fe80>"
      ]
     },
     "execution_count": 30,
     "metadata": {},
     "output_type": "execute_result"
    },
    {
     "data": {
      "image/png": "[encoded data removed]",
      "text/plain": [
       "<Figure size 432x288 with 2 Axes>"
      ]
     },
     "metadata": {
      "needs_background": "light"
     },
     "output_type": "display_data"
    }
   ],
   "source": [
    "ds['T'].sel(Z=0, method='nearest').plot()"
   ]
  },
  {
   "cell_type": "code",
   "execution_count": 32,
   "metadata": {},
   "outputs": [],
   "source": [
    "xn, yn = xc, yc       # new grid\n",
    "xo, yo = np.meshgrid(ds.XC.values, ds.YC.values) # old grid\n",
    "\n",
    "# create an extended matrix\n",
    "# add extra points to both side of the domain that \n",
    "# sit at the farthest edge\n",
    "\n",
    "xtemp = xo[0,:]\n",
    "xtemp2 = np.zeros([len(xtemp)+2])\n",
    "xtemp2[1:(len(xtemp2)-1)] = xtemp\n",
    "xtemp2[-1] = Lx\n",
    "\n",
    "\n",
    "ytemp = yo[:,0]\n",
    "ytemp2 = np.zeros([len(ytemp)+2])\n",
    "ytemp2[1:(len(ytemp2)-1)] = ytemp\n",
    "ytemp2[-1]=Lx\n",
    "\n",
    "xo2, yo2 = np.meshgrid(xtemp2, ytemp2)"
   ]
  },
  {
   "cell_type": "code",
   "execution_count": 35,
   "metadata": {},
   "outputs": [],
   "source": [
    "hydro_reshaped_pad = np.zeros([len(Z), len(ytemp)+2, len(xtemp)+2])\n",
    "\n",
    "hydro_reshaped_pad[:,1:len(ytemp)+1,1:len(xtemp)+1] = ds['T'].isel(time=-1).values\n",
    "\n",
    "hydro_reshaped_pad[:,:,0] = hydro_reshaped_pad[:,:,1]\n",
    "hydro_reshaped_pad[:,:,-1] = hydro_reshaped_pad[:,:,1]\n",
    "hydro_reshaped_pad[:,0,:] = hydro_reshaped_pad[:,1,:]\n",
    "hydro_reshaped_pad[:,-1,:] = hydro_reshaped_pad[:,-3,:]\n",
    "hydro_reshaped_pad[:,-2,:] = hydro_reshaped_pad[:,-3,:]"
   ]
  },
  {
   "cell_type": "code",
   "execution_count": 36,
   "metadata": {},
   "outputs": [],
   "source": [
    "from scipy.interpolate import LinearNDInterpolator, NearestNDInterpolator\n",
    "new_temp = np.zeros((len(Z),len(yn[:,0]),len(xn[0,:])))"
   ]
  },
  {
   "cell_type": "code",
   "execution_count": 37,
   "metadata": {},
   "outputs": [
    {
     "name": "stdout",
     "output_type": "stream",
     "text": [
      "0\n",
      "1\n",
      "2\n",
      "3\n",
      "4\n",
      "5\n",
      "6\n",
      "7\n",
      "8\n",
      "9\n",
      "10\n",
      "11\n",
      "12\n",
      "13\n",
      "14\n",
      "15\n",
      "16\n",
      "17\n",
      "18\n",
      "19\n",
      "20\n",
      "21\n",
      "22\n",
      "23\n",
      "24\n",
      "25\n",
      "26\n",
      "27\n",
      "28\n",
      "29\n",
      "30\n",
      "31\n",
      "32\n",
      "33\n",
      "34\n",
      "35\n",
      "36\n",
      "37\n",
      "38\n",
      "39\n"
     ]
    }
   ],
   "source": [
    "for klev in range(0, len(Z)):\n",
    "    \n",
    "    data = hydro_reshaped_pad[klev,:,:]\n",
    "\n",
    "    points = np.vstack((yo2.ravel(), xo2.ravel())).T\n",
    "    values = data.ravel()\n",
    "    lint = LinearNDInterpolator(points, values)\n",
    "\n",
    "    new_points = np.vstack((yn.ravel(), xn.ravel())).T\n",
    "\n",
    "    new_values = lint(new_points)\n",
    "    \n",
    "    new_temp[klev,:,:] = new_values.reshape(xn.shape)\n",
    "    print(klev)\n",
    "\n",
    "    "
   ]
  },
  {
   "cell_type": "code",
   "execution_count": 38,
   "metadata": {},
   "outputs": [
    {
     "data": {
      "text/plain": [
       "<matplotlib.contour.QuadContourSet at 0x1555214fd150>"
      ]
     },
     "execution_count": 38,
     "metadata": {},
     "output_type": "execute_result"
    },
    {
     "data": {
      "image/png": "[encoded data removed]",
      "text/plain": [
       "<Figure size 432x288 with 1 Axes>"
      ]
     },
     "metadata": {
      "needs_background": "light"
     },
     "output_type": "display_data"
    }
   ],
   "source": [
    "plt.contourf(new_temp[0,:,:])"
   ]
  },
  {
   "cell_type": "code",
   "execution_count": 39,
   "metadata": {},
   "outputs": [
    {
     "data": {
      "text/plain": [
       "(40, 400, 400)"
      ]
     },
     "execution_count": 39,
     "metadata": {},
     "output_type": "execute_result"
    }
   ],
   "source": [
    "new_temp.shape"
   ]
  },
  {
   "cell_type": "code",
   "execution_count": 40,
   "metadata": {},
   "outputs": [],
   "source": [
    "new_temp=new_temp+0.0001 #so there are no 0s."
   ]
  },
  {
   "cell_type": "code",
   "execution_count": 41,
   "metadata": {},
   "outputs": [],
   "source": [
    "new_temp.astype(tp).tofile(output_dir + 'temp_initial_from20km_%03d.bin' % resolution)"
   ]
  },
  {
   "cell_type": "code",
   "execution_count": null,
   "metadata": {},
   "outputs": [],
   "source": []
  }
 ],
 "metadata": {
  "kernelspec": {
   "display_name": "GM-Redi-offline-env",
   "language": "python",
   "name": "gm-redi-offline-env"
  },
  "language_info": {
   "codemirror_mode": {
    "name": "ipython",
    "version": 3
   },
   "file_extension": ".py",
   "mimetype": "text/x-python",
   "name": "python",
   "nbconvert_exporter": "python",
   "pygments_lexer": "ipython3",
   "version": "3.10.2"
  }
 },
 "nbformat": 4,
 "nbformat_minor": 4
}
