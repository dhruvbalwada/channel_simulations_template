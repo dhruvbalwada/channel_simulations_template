{
 "cells": [
  {
   "cell_type": "markdown",
   "metadata": {},
   "source": [
    "## Input for MITgcm channel simulations\n",
    "\n",
    "For the base simulation we need to generate a few files, the following: \n",
    "- Bathymetry\n",
    "- Surface winds\n",
    "- Surface buoyancy (temperature) restoration\n",
    "- Initial condition for temperature field.\n",
    "\n",
    "In addition we can also use:\n",
    "- Sponge layer profile. Use this if you want to control the interior stratification with more precision. An effect having this turned on is that a residual circulation will be present. \n",
    "- Sponge layer mask, comes with the profile. \n"
   ]
  },
  {
   "cell_type": "code",
   "execution_count": 1,
   "metadata": {},
   "outputs": [],
   "source": [
    "import numpy as np\n",
    "import xarray as xr\n",
    "from xmitgcm import open_mdsdataset\n",
    "from matplotlib import pyplot as plt\n",
    "%matplotlib inline"
   ]
  },
  {
   "cell_type": "code",
   "execution_count": 2,
   "metadata": {},
   "outputs": [],
   "source": [
    "output_dir = './' # where to store these input file\n",
    "\n",
    "resolution = 20e3 # km\n",
    "\n",
    "# Domain\n",
    "Lx = 2e6\n",
    "Ly = 2e6\n",
    "\n",
    "# Winds\n",
    "tau0 = 0.2 # N/m^2 wind maxima\n",
    "Buff_L = 50e3  # Total buffer width on both side where wind goes to 0\n",
    "wind_type = 'Sin_sqr'\n",
    "\n",
    "# Surface temp\n",
    "Tmin, Tmax = 0., 8.0 # min, max temperature of linear surface profile\n",
    "\n",
    "# Bathymetry\n",
    "H = 3000.0 # m depth\n",
    "h0 = 1000.0 # Height of ridge\n",
    "sig = 75.0e3 # Width of ridge (gaussian standard deviation)\n",
    "\n",
    "\n",
    "# Sponge layer and initial conditions\n",
    "delT = Tmax - Tmin\n",
    "Hs = 1200.\n",
    "a = 1e-5\n",
    "b = -19\n",
    "\n",
    "\n",
    "# Other parameters\n",
    "flag = 1 # set 0 to not generate any plots\n",
    "tp = '>f8'"
   ]
  },
  {
   "cell_type": "markdown",
   "metadata": {},
   "source": [
    "#### Generate grid "
   ]
  },
  {
   "cell_type": "code",
   "execution_count": 3,
   "metadata": {},
   "outputs": [],
   "source": [
    "# A function that makes xy grid\n",
    "def make_grid_xy(lx, ly, res):\n",
    "#    lx, ly = length, length\n",
    "#    nx, ny = n, n\n",
    "    nx = int(lx/res)\n",
    "    ny = int(ly/res)\n",
    "    dx, dy = lx/nx, ly/ny\n",
    "\n",
    "    # create mesh-grids for cell centers\n",
    "    xc, yc = np.meshgrid(\n",
    "                dx * np.arange(nx) + dx/2,\n",
    "                dy * np.arange(ny) + dy/2)\n",
    "    \n",
    "    return xc, yc, dx, dy"
   ]
  },
  {
   "cell_type": "code",
   "execution_count": 4,
   "metadata": {},
   "outputs": [],
   "source": [
    "xc, yc, dx, dy = make_grid_xy(Lx, Ly, resolution)"
   ]
  },
  {
   "cell_type": "code",
   "execution_count": 5,
   "metadata": {},
   "outputs": [],
   "source": [
    "# Z grid \n",
    "# At the moment this is manually input, and support to be the same as the LLC4320 grid\n",
    "delR =   np.array([1.00,    1.14,    1.30,    1.49,   1.70,  \n",
    "                   1.93,    2.20,    2.50,    2.84,   3.21,        \n",
    "                   3.63,    4.10,    4.61,    5.18,   5.79,   \n",
    "                   6.47,    7.20,    7.98,    8.83,   9.73,  \n",
    "                   10.69,   11.70,   12.76,   13.87,  15.03,   \n",
    "                   16.22,   17.45,   18.70,   19.97,  21.27,    \n",
    "                   22.56,   23.87,   25.17,   26.46,  27.74,  \n",
    "                   29.00,   30.24,   31.45,   32.65,  33.82, \n",
    "                   34.97,   36.09,   37.20,   38.29,  39.37,   \n",
    "                   40.45,   41.53,   42.62,   43.73,  44.87,\n",
    "                   46.05,   47.28,   48.56,   49.93,  51.38,\n",
    "                   52.93,   54.61,   56.42,   58.38,  60.53,\n",
    "                   62.87,   65.43,   68.24,   71.33,  74.73,\n",
    "                   78.47,   82.61,   87.17,   92.21,  97.79,\n",
    "                   103.96,  110.79,  118.35,  126.73, 136.01, 174.67])\n",
    "Z = -(delR.cumsum())\n",
    "\n",
    "# Z grid for 40 points\n",
    "# I think it is ok to use this, unless we are going to higher resolutions. \n",
    "delR= np.array([10.0, 10.0, 10.0, 12.0, \n",
    "                14.0, 16.0, 19.0, 22.0, \n",
    "                26.0, 30.0, 36.0, 42.0, \n",
    "                50.0, 60.0, 72.0, 85., 102., \n",
    "                103., 103., 103., 103., \n",
    "                103., 103., 103., 103., \n",
    "                103., 103., 103., 103., \n",
    "                103., 103., 103., 103., \n",
    "                103., 103., 103., 103., \n",
    "                103., 103., 103.])\n",
    "Z = -(delR.cumsum())\n"
   ]
  },
  {
   "cell_type": "markdown",
   "metadata": {},
   "source": [
    "### Surface forcing fields"
   ]
  },
  {
   "cell_type": "markdown",
   "metadata": {},
   "source": [
    "#### Winds"
   ]
  },
  {
   "cell_type": "code",
   "execution_count": 6,
   "metadata": {},
   "outputs": [],
   "source": [
    "#tau = np.zeros([ny,nx])\n",
    "\n",
    "if wind_type=='Sin_sqr':\n",
    "# Sin^2 \n",
    "    tau = tau0*(np.sin(np.pi* (yc-Buff_L)/(Ly-2*Buff_L))**2) # slightly squeezed wind profile to account \n",
    "\n",
    "# Add buffer zone of 0 winds on domain end\n",
    "tau[yc<=Buff_L] = 0.\n",
    "tau[yc>=(Ly-Buff_L)] = 0.\n",
    "\n",
    "tau.astype(tp).tofile((output_dir + 'surf_winds'+'_'+wind_type+'_%01d_em1_Nm2_%03d.bin'%(tau0*10,resolution)))\n",
    "   "
   ]
  },
  {
   "cell_type": "code",
   "execution_count": 7,
   "metadata": {},
   "outputs": [
    {
     "data": {
      "image/png": "[encoded data removed]",
      "text/plain": [
       "<Figure size 432x288 with 2 Axes>"
      ]
     },
     "metadata": {
      "needs_background": "light"
     },
     "output_type": "display_data"
    },
    {
     "data": {
      "image/png": "[encoded data removed]",
      "text/plain": [
       "<Figure size 432x288 with 1 Axes>"
      ]
     },
     "metadata": {
      "needs_background": "light"
     },
     "output_type": "display_data"
    }
   ],
   "source": [
    "if flag ==1 :\n",
    "    plt.pcolor(tau)\n",
    "    plt.colorbar()\n",
    "\n",
    "    plt.figure()\n",
    "    plt.plot(yc[:,1],tau[:,1],'.')\n",
    "    "
   ]
  },
  {
   "cell_type": "markdown",
   "metadata": {},
   "source": [
    "#### Surface temperature"
   ]
  },
  {
   "cell_type": "code",
   "execution_count": 8,
   "metadata": {},
   "outputs": [],
   "source": [
    "ny = int(Ly/resolution)\n",
    "Tsurf = np.tile(np.linspace(Tmin, Tmax, ny), (ny,1)).T\n",
    "\n",
    "Tsurf.astype(tp).tofile((output_dir + 'surf_temp_linear_%1d_to_%1dC_%03d.bin' %(Tmin, Tmax, resolution)))"
   ]
  },
  {
   "cell_type": "code",
   "execution_count": 9,
   "metadata": {},
   "outputs": [
    {
     "data": {
      "image/png": "[encoded data removed]",
      "text/plain": [
       "<Figure size 432x288 with 2 Axes>"
      ]
     },
     "metadata": {
      "needs_background": "light"
     },
     "output_type": "display_data"
    }
   ],
   "source": [
    "flag = 1\n",
    "if flag == 1:\n",
    "    plt.pcolor(Tsurf)\n",
    "    plt.colorbar()"
   ]
  },
  {
   "cell_type": "markdown",
   "metadata": {},
   "source": [
    "### Bathymetry"
   ]
  },
  {
   "cell_type": "code",
   "execution_count": 10,
   "metadata": {},
   "outputs": [],
   "source": [
    "bathy = -(H - h0 * np.exp(-(xc - Lx/2)**2 / sig**2))\n",
    "\n",
    "bathy[0,:] = 0.0 # make a wall \n",
    "\n",
    "bathy.astype(tp).tofile(output_dir + 'bathymetry_ridge_%03d.bin' % resolution)"
   ]
  },
  {
   "cell_type": "code",
   "execution_count": 11,
   "metadata": {},
   "outputs": [
    {
     "data": {
      "image/png": "[encoded data removed]",
      "text/plain": [
       "<Figure size 432x288 with 2 Axes>"
      ]
     },
     "metadata": {
      "needs_background": "light"
     },
     "output_type": "display_data"
    }
   ],
   "source": [
    "if flag == 1:\n",
    "    plt.contourf((bathy), vmax=-2000)\n",
    "    plt.colorbar()"
   ]
  },
  {
   "cell_type": "code",
   "execution_count": null,
   "metadata": {},
   "outputs": [],
   "source": []
  },
  {
   "cell_type": "markdown",
   "metadata": {},
   "source": [
    "### Initial condition"
   ]
  },
  {
   "cell_type": "code",
   "execution_count": 12,
   "metadata": {},
   "outputs": [],
   "source": [
    "# this part only runs on gyre at the moment, since that is where the 5km data lives.\n",
    "#spinup_old = '/swot/SUM05/dbalwada/channel_beta/05km/run_spinup_256_300s_autorestart/'\n",
    "#ds_05_old = open_mdsdataset(spinup_old, iters = [11923200],delta_t=300, prefix=['T'],ignore_unknown_vars=True, geometry='cartesian')"
   ]
  },
  {
   "cell_type": "code",
   "execution_count": 13,
   "metadata": {},
   "outputs": [],
   "source": [
    "#init_temp = ds_05_old['T'].isel(time=0).values"
   ]
  },
  {
   "cell_type": "code",
   "execution_count": 14,
   "metadata": {},
   "outputs": [],
   "source": [
    "#init_temp.astype(tp).tofile(output_dir + 'temp_initial_05km_old_%03d.bin' % resolution)"
   ]
  },
  {
   "cell_type": "markdown",
   "metadata": {},
   "source": [
    "### Sponge layer"
   ]
  },
  {
   "cell_type": "code",
   "execution_count": 15,
   "metadata": {},
   "outputs": [],
   "source": [
    "T_sponge_profile = delT*(np.exp(Z/Hs) - np.exp(Z[-1]/Hs)\n",
    "                        )/(np.exp(0./Hs) - np.exp(Z[-1]/Hs))\n",
    "n = int(Ly/resolution)\n",
    "\n",
    "T_sponge = np.tile(T_sponge_profile, (n,n,1)).T\n",
    "T_sponge = T_sponge+0.01"
   ]
  },
  {
   "cell_type": "code",
   "execution_count": 16,
   "metadata": {},
   "outputs": [
    {
     "data": {
      "text/plain": [
       "[<matplotlib.lines.Line2D at 0x7f40f996f210>]"
      ]
     },
     "execution_count": 16,
     "metadata": {},
     "output_type": "execute_result"
    },
    {
     "data": {
      "image/png": "[encoded data removed]",
      "text/plain": [
       "<Figure size 432x288 with 1 Axes>"
      ]
     },
     "metadata": {
      "needs_background": "light"
     },
     "output_type": "display_data"
    }
   ],
   "source": [
    "plt.plot(T_sponge[:, 3,3], Z)"
   ]
  },
  {
   "cell_type": "code",
   "execution_count": 17,
   "metadata": {},
   "outputs": [],
   "source": [
    "T_sponge_mask = np.ones_like(T_sponge)*yc\n",
    "T_sponge_mask = a*T_sponge_mask + b\n",
    "T_sponge_mask[T_sponge_mask<0] = 0."
   ]
  },
  {
   "cell_type": "code",
   "execution_count": 18,
   "metadata": {},
   "outputs": [
    {
     "data": {
      "text/plain": [
       "<matplotlib.collections.QuadMesh at 0x7f40f9911d50>"
      ]
     },
     "execution_count": 18,
     "metadata": {},
     "output_type": "execute_result"
    },
    {
     "data": {
      "image/png": "[encoded data removed]",
      "text/plain": [
       "<Figure size 432x288 with 1 Axes>"
      ]
     },
     "metadata": {
      "needs_background": "light"
     },
     "output_type": "display_data"
    }
   ],
   "source": [
    "plt.pcolormesh(T_sponge_mask[3,:,:])"
   ]
  },
  {
   "cell_type": "code",
   "execution_count": 19,
   "metadata": {},
   "outputs": [
    {
     "ename": "AttributeError",
     "evalue": "module 'matplotlib.pyplot' has no attribute 'pl'",
     "output_type": "error",
     "traceback": [
      "\u001b[0;31m---------------------------------------------------------------------------\u001b[0m",
      "\u001b[0;31mAttributeError\u001b[0m                            Traceback (most recent call last)",
      "\u001b[0;32m<ipython-input-19-76021bd0277d>\u001b[0m in \u001b[0;36m<module>\u001b[0;34m\u001b[0m\n\u001b[0;32m----> 1\u001b[0;31m \u001b[0mplt\u001b[0m\u001b[0;34m.\u001b[0m\u001b[0mpl\u001b[0m\u001b[0;34m\u001b[0m\u001b[0;34m\u001b[0m\u001b[0m\n\u001b[0m",
      "\u001b[0;31mAttributeError\u001b[0m: module 'matplotlib.pyplot' has no attribute 'pl'"
     ]
    }
   ],
   "source": [
    "plt.pl"
   ]
  },
  {
   "cell_type": "code",
   "execution_count": null,
   "metadata": {},
   "outputs": [],
   "source": [
    "T_sponge.astype(tp).tofile(output_dir + \n",
    "                           'temp_relax_profile_sponge_%03d.bin' % resolution)"
   ]
  },
  {
   "cell_type": "code",
   "execution_count": null,
   "metadata": {},
   "outputs": [],
   "source": [
    "T_sponge_mask.astype(tp).tofile(output_dir + \n",
    "                           'temp_relax_mask_sponge_%03d.bin' % resolution)"
   ]
  },
  {
   "cell_type": "code",
   "execution_count": null,
   "metadata": {},
   "outputs": [],
   "source": [
    "# save initial conditions as the same profile as sponge layer everywhere. \n",
    "T_sponge.astype(tp).tofile(output_dir + 'temp_initial_%03d.bin' % resolution)"
   ]
  },
  {
   "cell_type": "code",
   "execution_count": null,
   "metadata": {},
   "outputs": [],
   "source": []
  }
 ],
 "metadata": {
  "kernelspec": {
   "display_name": "Python [conda env:pangeo]",
   "language": "python",
   "name": "conda-env-pangeo-py"
  },
  "language_info": {
   "codemirror_mode": {
    "name": "ipython",
    "version": 3
   },
   "file_extension": ".py",
   "mimetype": "text/x-python",
   "name": "python",
   "nbconvert_exporter": "python",
   "pygments_lexer": "ipython3",
   "version": "3.7.9"
  }
 },
 "nbformat": 4,
 "nbformat_minor": 2
}
